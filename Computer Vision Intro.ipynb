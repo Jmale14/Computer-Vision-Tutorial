{
 "cells": [
  {
   "cell_type": "markdown",
   "metadata": {},
   "source": [
    "# Introduction to Computer Vision for Robotics\n",
    "\n",
    "In this tutorial you will be introduced to some basic concepts of computer vision and programming and have the chance to practice yourself.\n",
    "\n",
    "### Jupyter Notebooks\n",
    "\n",
    "As you've found out by now, this tutorial is run using a jupyter notebook. This is an online programming environment which has been set up to take you through the tasks for this tutorial. Things to note with jupyter notebooks:\n",
    " - There are two types of 'cells', text cells like this one and code cells shown by the [?]: symbol at the side which contain the code that you'll run. As you go through feeel free to edit code cells and see what happens when you change them.\n",
    " - To run a cell press shift-enter or click the run button at the top of the page.\n",
    " - Sometimes you can accidentally enter editing mode of the text cells, if that happens just run the cell (shift-enter) to exit editing mode.\n",
    " - Some cells refer to variables created in other cells so make sure to run all cells in order\n",
    " \n",
    "This notebook is set up to run with the Python programming language. Different languages are structured and written differently which makes them good for different tasks, Python is a powerful language that's used a lot in research and is also relatively easy to start using.\n",
    "\n",
    "### Tutorial Structure\n",
    "\n",
    "This tutorial will give you a quick introduction to some core programming concepts and also some computer vision tasks. The first part will give and introduction to basic programming concepts, if you've done some programming before feel free to go over these quickly. The sections to this tutorial are:\n",
    " - Basic Programming Concepts\n",
    " - What are digital images?\n",
    " - Filtering an image\n",
    " - Edge detection\n",
    "\n"
   ]
  },
  {
   "cell_type": "markdown",
   "metadata": {},
   "source": [
    "## Basic Programming Concepts\n",
    "\n",
    "When programming, a piece of data has a a name and a data type. In this tutorial we'll use four data types:\n",
    " - int - Used for storing an integer, i.e. a whole number\n",
    " - float - Used for storing a floatimg point number, i.e. with decimal point\n",
    " - str - Used for storing a String, i.e. sequence of characters\n",
    " - list - Stores a comma separated list of data\n",
    " - array - Stores an array of data, we'll be using a library called 'numpy' which is useful for performing operations arrays. A library is some code written to perform specific operations, in this case the numpy library has useful inbuilt operation for dealing with large data arrays.\n",
    " \n",
    "In code you'll see two types of text, the actual code and comments. Comments are used to explain what's goin on in the code but aren't run by the program, in Python a comment is made by starting with the # symbol and are shown as italicised text. If you're not sure what some part of the code is doing try reading the comments for an explanation.\n",
    "\n",
    "The print statement is used to display a variable or message to the user. The structure is print( *variable name* ) or print( \"*message*\" ).\n",
    "\n",
    "The type() function isused to retrieve the type of a variable, e.g. type(*variable*)\n",
    "\n",
    "Try running the code cell below and make sure you understand where all the oupt statements are coming from."
   ]
  },
  {
   "cell_type": "code",
   "execution_count": 21,
   "metadata": {},
   "outputs": [
    {
     "name": "stdout",
     "output_type": "stream",
     "text": [
      "Hello, World!\n",
      "0\n",
      "<class 'int'>\n",
      "9 <class 'int'>\n",
      "9.3 <class 'float'>\n",
      "18.3 <class 'float'>\n",
      "Hello, World! <class 'str'>\n",
      "['A list', 6, 9.4, ['A list', 'In a list']] <class 'list'>\n",
      "[4 5] <class 'numpy.ndarray'> (2,)\n",
      "[[1 2 3]\n",
      " [4 5 6]] <class 'numpy.ndarray'>\n",
      "[[0. 0. 0.]\n",
      " [0. 0. 0.]] <class 'numpy.ndarray'>\n",
      "[[1. 1. 1. 1. 1. 1.]] <class 'numpy.ndarray'>\n"
     ]
    }
   ],
   "source": [
    "import numpy as np # Import the numpy library, name it np\n",
    "\n",
    "print(\"Hello, World!\") # print a message\n",
    "\n",
    "a = int() # Create blank int variable\n",
    "print(a) # print variable a\n",
    "print(type(a)) # print type of variable a\n",
    "\n",
    "a = 9 # Set value of a to 9\n",
    "b = 9.3 # Create a float\n",
    "c = a + b # basic arithmitic\n",
    "d = \"Hello, World!\" # Create a string\n",
    "e = [\"A list\", 6, 9.4, [\"A list\", \"In a list\"]] # A list\n",
    "f = np.array((4, 5)) # Create an array with 4 rows and 5 columns\n",
    "g = np.array([[1, 2, 3],[4, 5, 6]]) # Create an array with \n",
    "h = np.zeros((2, 3)) # Create an array with \n",
    "i = np.ones((1, 6)) # Create an array with \n",
    "\n",
    "print(a, type(a)) # We can print more than one thing in a single line by separating the variables with a comma\n",
    "print(b, type(b))\n",
    "print(c, type(c))\n",
    "print(d, type(d))\n",
    "print(e, type(e))\n",
    "print(f, type(f), f.shape)\n",
    "print(g, type(g))\n",
    "print(h, type(h))\n",
    "print(i, type(i))"
   ]
  },
  {
   "cell_type": "markdown",
   "metadata": {},
   "source": [
    "### Code Structure: if, for, while\n",
    "\n",
    "Code can be thought of as a flowchart with one instruction being executed at a time. In order to make decision we commonly use 'if' statements and to repeat sections of code we use 'while' loops or 'for' loops.\n",
    "\n",
    "If statements are used with conditional operators to decide of a block of code should be executed. The operators must always be either true or false:\n",
    " - Equals: a == b\n",
    " - Not Equals: a != b\n",
    " - Less than: a < b\n",
    " - Less than or equal to: a <= b\n",
    " - Greater than: a > b\n",
    " - Greater than or equal to: a >= b\n",
    "\n",
    "If statements can also have 'elif' statements (short for else if) to execute code if the first if statement is false. 'else' statements are used to execute code if none of the previous if or elif statements have been executed.\n",
    "\n",
    "Run the example below and make sure you're happy with where the ouputs are coming from and why."
   ]
  },
  {
   "cell_type": "code",
   "execution_count": 22,
   "metadata": {},
   "outputs": [
    {
     "name": "stdout",
     "output_type": "stream",
     "text": [
      "a equals five\n",
      "a is greater than or equal to 5\n",
      "b is greater than or equal to a\n",
      "b is greater than a\n"
     ]
    }
   ],
   "source": [
    "a = 5\n",
    "b = 9\n",
    "\n",
    "if a == 5:\n",
    "    print(\"a equals five\")\n",
    "\n",
    "if a >= 5:\n",
    "    print(\"a is greater than or equal to 5\")\n",
    "    \n",
    "if a < 5:\n",
    "    print(\"a is less than 5\")\n",
    "elif b >= a:\n",
    "    print(\"b is greater than or equal to a\")\n",
    "\n",
    "if b < a:\n",
    "    print(\"b is less than a\")\n",
    "elif b == a:\n",
    "    print(\"b equals a\")\n",
    "else:\n",
    "    print(\"b is greater than a\")"
   ]
  },
  {
   "cell_type": "markdown",
   "metadata": {},
   "source": [
    "Loops are used to repeat sections of code, as we'll see they're important for image processing. \n",
    "\n",
    "'For' loops repeat the section of code a set number of times. This is often used with the 'range' function to define the range of values to iterate over, note range(0, 5) iterates over the values 0 to 4 not 0 to 5. For loops can also be used to iterate over the items in a list.\n",
    "\n",
    "'while' loops are used to repeat a section of code until a condition is met. The conditional statements that can be used are the same as for the 'if' statement."
   ]
  },
  {
   "cell_type": "code",
   "execution_count": 23,
   "metadata": {},
   "outputs": [
    {
     "name": "stdout",
     "output_type": "stream",
     "text": [
      "0\n",
      "1\n",
      "2\n",
      "3\n",
      "4\n",
      "5\n",
      "6\n",
      "7\n",
      "8\n",
      "9\n",
      "Hello\n",
      "World\n",
      "2\n",
      "6.8\n",
      "['Another', 'List']\n",
      "0\n",
      "1\n",
      "2\n",
      "3\n",
      "4\n",
      "5\n",
      "6\n",
      "7\n",
      "8\n",
      "9\n"
     ]
    }
   ],
   "source": [
    "for a in range(0, 10):\n",
    "    print(a)\n",
    "    \n",
    "B = [\"Hello\", \"World\", 2, 6.8, [\"Another\", \"List\"]]\n",
    "for b in B:\n",
    "    print(b)\n",
    "    \n",
    "b = 0\n",
    "while b < 10:\n",
    "    print(b)\n",
    "    b = b + 1"
   ]
  },
  {
   "cell_type": "code",
   "execution_count": null,
   "metadata": {},
   "outputs": [],
   "source": []
  },
  {
   "cell_type": "code",
   "execution_count": null,
   "metadata": {},
   "outputs": [],
   "source": []
  },
  {
   "cell_type": "code",
   "execution_count": null,
   "metadata": {},
   "outputs": [],
   "source": []
  }
 ],
 "metadata": {
  "kernelspec": {
   "display_name": "Python 3",
   "language": "python",
   "name": "python3"
  },
  "language_info": {
   "codemirror_mode": {
    "name": "ipython",
    "version": 3
   },
   "file_extension": ".py",
   "mimetype": "text/x-python",
   "name": "python",
   "nbconvert_exporter": "python",
   "pygments_lexer": "ipython3",
   "version": "3.7.4"
  }
 },
 "nbformat": 4,
 "nbformat_minor": 4
}
